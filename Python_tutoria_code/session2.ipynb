{
 "cells": [
  {
   "cell_type": "code",
   "execution_count": 1,
   "metadata": {},
   "outputs": [
    {
     "name": "stdout",
     "output_type": "stream",
     "text": [
      "1\n"
     ]
    }
   ],
   "source": [
    "x = 1\n",
    "#remember left hand side variable\n",
    "\n",
    "\n",
    "print(x)\n",
    "#function including perantences \n"
   ]
  },
  {
   "cell_type": "code",
   "execution_count": 2,
   "metadata": {},
   "outputs": [
    {
     "name": "stdout",
     "output_type": "stream",
     "text": [
      "2\n"
     ]
    }
   ],
   "source": [
    "x += 1\n",
    "print(x)\n",
    "\n"
   ]
  },
  {
   "cell_type": "code",
   "execution_count": 8,
   "metadata": {},
   "outputs": [
    {
     "name": "stdout",
     "output_type": "stream",
     "text": [
      "4\n"
     ]
    }
   ],
   "source": [
    "x = 4\n",
    "\n",
    "print(x)\n"
   ]
  },
  {
   "cell_type": "code",
   "execution_count": 4,
   "metadata": {},
   "outputs": [
    {
     "name": "stdout",
     "output_type": "stream",
     "text": [
      "My name is Soana!\n"
     ]
    }
   ],
   "source": [
    "phrase = \"My name is Soana!\"\n",
    "print(phrase)"
   ]
  },
  {
   "cell_type": "code",
   "execution_count": 11,
   "metadata": {},
   "outputs": [
    {
     "name": "stdout",
     "output_type": "stream",
     "text": [
      "!anaoS si eman yM\n",
      "name is Soana!\n",
      "My name is S\n"
     ]
    }
   ],
   "source": [
    "# [ start : stop : step]\n",
    "sub_string_1 = phrase[-1::-1]\n",
    "print(sub_string_1)\n",
    "\n",
    "sub_string_2 = phrase[3:]\n",
    "print(sub_string_2)\n",
    "\n",
    "sub_string_3 = phrase[:-5]\n",
    "print(sub_string_3)"
   ]
  },
  {
   "cell_type": "code",
   "execution_count": 13,
   "metadata": {},
   "outputs": [
    {
     "name": "stdout",
     "output_type": "stream",
     "text": [
      "<class 'list'>\n"
     ]
    }
   ],
   "source": [
    "# list - e.g. list of expected ethnicities to be stored in python\n",
    "# [] tells python is a list\n",
    "\n",
    "list_1 = []\n",
    "\n",
    "print(type(list_1))"
   ]
  },
  {
   "cell_type": "code",
   "execution_count": 23,
   "metadata": {},
   "outputs": [
    {
     "name": "stdout",
     "output_type": "stream",
     "text": [
      "['red', 'blue', 'green', 'teal']\n",
      "['red', 'blue', 'green', 'teal', 'purple']\n",
      "teal\n",
      "['red', 'blue', 'green', 'teal', 'purple', ['turquoise', 'teal'], 'turquoise', 'teal']\n",
      "['red', 'blue', 'green', 'purple', ['turquoise', 'teal'], 'turquoise', 'teal']\n",
      "['red', 'blue', 'green', 'purple', ['turquoise', 'teal'], 'turquoise']\n"
     ]
    }
   ],
   "source": [
    "colour = \"teal\"\n",
    "colours = [\"red\",\"blue\",\"green\", colour]\n",
    "print(colours)\n",
    "\n",
    "\n",
    "colours.append('purple')\n",
    "print(colours)\n",
    "\n",
    "extra_colours = ['turquoise', \"teal\"]\n",
    "colours.append(extra_colours)\n",
    "print(colours[-1][1])\n",
    "\n",
    "colours.extend(extra_colours)\n",
    "print(colours)\n",
    "\n",
    "colours.remove('teal')\n",
    "print(colours)\n",
    "colours.remove('teal')\n",
    "print(colours)\n",
    "colours.remove('teal')\n",
    "print(colours)"
   ]
  },
  {
   "cell_type": "code",
   "execution_count": 24,
   "metadata": {},
   "outputs": [
    {
     "name": "stdout",
     "output_type": "stream",
     "text": [
      "['red', 'blue', 'green', 'teal']\n",
      "['red', 'blue', 'green', 'teal', 'puple']\n",
      "teal\n",
      "['red', 'blue', 'green', 'teal', 'puple', ['turquoise', 'teal'], 'turquoise', 'teal']\n",
      "['red', 'blue', 'green', 'puple', ['turquoise', 'teal'], 'turquoise', 'teal']\n",
      "['red', 'blue', 'green', 'puple', ['turquoise', 'teal'], 'turquoise']\n"
     ]
    }
   ],
   "source": [
    "colour = \"teal\"\n",
    "\n",
    "colours = [\"red\", \"blue\", \"green\", colour]\n",
    "print(colours)\n",
    "\n",
    "colours.append('puple')\n",
    "print(colours)\n",
    "\n",
    "extra_colours = ['turquoise', \"teal\"]\n",
    "colours.append(extra_colours)\n",
    "print(colours[-1][1])\n",
    "\n",
    "colours.extend(extra_colours)\n",
    "print(colours)\n",
    "\n",
    "colours.remove('teal')\n",
    "print(colours)\n",
    "colours.remove('teal')\n",
    "print(colours)"
   ]
  },
  {
   "cell_type": "code",
   "execution_count": 29,
   "metadata": {},
   "outputs": [
    {
     "name": "stdout",
     "output_type": "stream",
     "text": [
      "['burger', 'pizza', 'pasta', 'pasty', 'chocolate', 'cabbage', 'sausages']\n"
     ]
    }
   ],
   "source": [
    "# In this cell, make a list of a few foods and print it.\n",
    "food_list = [\"burger\", \"pizza\", \"pasta\"]\n",
    "\n",
    "# Then extend the list with another food and print it.\n",
    "food_list.append(\"pasty\")\n",
    "# Next, make another list of foods, and use the extend method to \n",
    "# add those extra foods as individual elements of the list, and print it.\n",
    "more_foods = [\"chocolate\", \"crackers\"]\n",
    "food_list.extend(more_foods)\n",
    "food_list.extend([\"cabbage\", \"sausages\"])\n",
    "\n",
    "\n",
    "\n",
    "# Finally, remove and element from the list and print the final list.\n",
    "# Remember to always use a suitable name for your lists!\n",
    "food_list.remove(\"crackers\")\n",
    "print(food_list)\n"
   ]
  },
  {
   "cell_type": "code",
   "execution_count": 30,
   "metadata": {},
   "outputs": [
    {
     "ename": "SyntaxError",
     "evalue": "invalid syntax (1949786043.py, line 15)",
     "output_type": "error",
     "traceback": [
      "\u001b[0;36m  Cell \u001b[0;32mIn[30], line 15\u001b[0;36m\u001b[0m\n\u001b[0;31m    has context menu\u001b[0m\n\u001b[0m        ^\u001b[0m\n\u001b[0;31mSyntaxError\u001b[0m\u001b[0;31m:\u001b[0m invalid syntax\n"
     ]
    }
   ],
   "source": [
    "# In this cell, make a list of a few foods and print it.\n",
    "food_list = [\"burger\", \"pizza\", \"pasta\"]\n",
    "# Then extend the list with another food and print it.\n",
    "food_list.append(\"pasty\")\n",
    "# Next, make another list of foods, and use the extend method to \n",
    "# add those extra foods as individual elements of the list, and print it.\n",
    "more_foods = [\"chocolate\", \"crackers\"]\n",
    "food_list.extend(more_foods)\n",
    "food_list.extend([\"cabbage\", \"sausages\"])\n",
    "\n",
    "# Finally, remove and element from the list and print the final list.\n",
    "# Remember to always use a suitable name for your lists!\n",
    "food_list.remove(\"crackers\")\n",
    "print(food_list)\n",
    "has context menu"
   ]
  },
  {
   "cell_type": "code",
   "execution_count": 35,
   "metadata": {},
   "outputs": [
    {
     "name": "stdout",
     "output_type": "stream",
     "text": [
      "[2, 3, 4, 5, 6, 6, 8, 9]\n",
      "[9, 8, 6, 6, 5, 4, 3, 2]\n",
      "[2, 3, 4, 5, 6, 6, 8, 9]\n",
      "['sausages', 'pizza', 'pasty', 'pasta', 'chocolate', 'cabbage', 'burger']\n",
      "['burger', 'cabbage', 'chocolate', 'pasta', 'pasty', 'pizza', 'sausages']\n"
     ]
    }
   ],
   "source": [
    "number_list = [3, 6, 4, 5, 2, 8, 9,6]\n",
    "\n",
    "number_list.sort()\n",
    "print(number_list)\n",
    "\n",
    "number_list.sort(reverse=True)\n",
    "print(number_list)\n",
    "\n",
    "\n",
    "sorted_list = sorted(number_list)\n",
    "print(sorted_list)\n",
    "\n",
    "food_list.sort(reverse=True)\n",
    "print(food_list)\n",
    "\n",
    "sorted_foods = sorted(food_list)\n",
    "print(sorted_foods)\n",
    "\n",
    "\n"
   ]
  },
  {
   "cell_type": "code",
   "execution_count": 36,
   "metadata": {},
   "outputs": [
    {
     "name": "stdout",
     "output_type": "stream",
     "text": [
      "[1, 1, 3, 4, 6, 6, 8]\n"
     ]
    }
   ],
   "source": [
    "numbers = [1, 4, 6, 8, 1, 3, 6]\n",
    "numbers.sort()\n",
    "print(numbers)"
   ]
  },
  {
   "cell_type": "code",
   "execution_count": 37,
   "metadata": {},
   "outputs": [
    {
     "name": "stdout",
     "output_type": "stream",
     "text": [
      "['burger', 'cabbage', 'chocolate', 'pasta', 'pasty', 'pizza', 'sausages']\n"
     ]
    }
   ],
   "source": [
    "# sort your final list of foods using the .sort() method and the sorted() function, printing both, also try reversing it!\n",
    "\n",
    "food_list.sort()\n",
    "print(food_list)\n"
   ]
  },
  {
   "cell_type": "code",
   "execution_count": 38,
   "metadata": {},
   "outputs": [
    {
     "name": "stdout",
     "output_type": "stream",
     "text": [
      "['burger', 'cabbage', 'chocolate', 'pasta', 'pasty', 'pizza', 'sausages']\n",
      "['burger', 'cabbage', 'chocolate', 'pasta', 'pasty', 'pizza', 'sausages']\n",
      "['burger', 'cabbage', 'chocolate', 'pasta', 'pasty', 'pizza', 'sausages']\n"
     ]
    }
   ],
   "source": [
    "# sort your final list of foods using the .sort() method and the sorted() function, printing both, also try reversing it!\n",
    "\n",
    "foods_list = [ 'pasta', 'pasty', 'pizza', 'sausages', 'burger', 'cabbage', 'chocolate']\n",
    "sorted_food = sorted(foods_list)\n",
    "foods_list.sort()\n",
    "print(sorted_food)\n",
    "print(foods_list)\n",
    "\n",
    "foods_list.sort(reverse=True)\n",
    "print(food_list)"
   ]
  },
  {
   "cell_type": "code",
   "execution_count": 39,
   "metadata": {},
   "outputs": [
    {
     "data": {
      "text/plain": [
       "{'Will': 'purple',\n",
       " 'Andy': ['teal', 'red'],\n",
       " 'Naiomi': {'monday': 'blue', 'sunday': 'orange', 'other days': 'white'}}"
      ]
     },
     "execution_count": 39,
     "metadata": {},
     "output_type": "execute_result"
    }
   ],
   "source": [
    "# use dictionary to sort data. Dictionary allow us to store multiple variables. It keeps data nice and tidy\n",
    "# Python stores inside {} and we separate them with commas\n",
    "\n",
    "favourite_colours = {\"Will\":\"purple\",\n",
    "                      \"Andy\":[\"teal\",\"red\"], \n",
    "                      \"Naiomi\":{\"monday\":\"blue\",\n",
    "                                \"sunday\":\"orange\",\n",
    "                                \"other days\":\"white\"}}\n",
    "favourite_colours"
   ]
  },
  {
   "cell_type": "code",
   "execution_count": 47,
   "metadata": {},
   "outputs": [
    {
     "name": "stdout",
     "output_type": "stream",
     "text": [
      "[('mcdonalds', 'maidenhead'), ('Paddy', ['beef', 'burger']), ('Makeleta', {'cheese': 'cucumber', 'no': 'tomato'})]\n"
     ]
    }
   ],
   "source": [
    "# make a dictionary of restaurants with keys being the name and values being the foods,\n",
    "# make sure at least one vlaue is a list of foods, and another is a dicitonary of days and foods\n",
    "\n",
    "restaurants = {\"mcdonalds\":\"maidenhead\",\n",
    "               \"Paddy\":[\"beef\",\"burger\"],\n",
    "               \"Makeleta\":{\"cheese\":\"cucumber\",\n",
    "                           \"no\":\"tomato\"}}\n",
    "\n",
    "print(list(restaurants.items()))"
   ]
  },
  {
   "cell_type": "code",
   "execution_count": 51,
   "metadata": {},
   "outputs": [
    {
     "name": "stdout",
     "output_type": "stream",
     "text": [
      "purple\n",
      "{'Will': 'Black', 'Andy': ['teal', 'red'], 'Naiomi': {'monday': 'blue', 'sunday': 'orange', 'other days': 'white'}, 'Annie': ['Gold', 'Silver']}\n"
     ]
    }
   ],
   "source": [
    "# print the .item(), .keys(), and .values(), of the favourite_colours dict\n",
    "\n",
    "favourite_colours = {\"Will\":\"purple\",\n",
    "                     \"Andy\":[\"teal\", \"red\"],\n",
    "                     \"Naiomi\":{\"monday\":\"blue\", \"sunday\":\"orange\", \"other days\":\"white\"}\n",
    "                     }\n",
    "\n",
    "\n",
    "# print(favourite_colours.items())\n",
    "# print(favourite_colours.keys())\n",
    "# print(favourite_colours.values())\n",
    "\n",
    "wills_colours = favourite_colours['Will']\n",
    "print(wills_colours)\n",
    "\n",
    "favourite_colours['Annie'] = [\"Gold\", \"Silver\"]\n",
    "favourite_colours[\"Will\"] = \"Black\"\n",
    "print(favourite_colours)\n",
    "\n",
    "#print (favourtie_colours)\n",
    "\n",
    "print\n",
    "\n",
    "\n"
   ]
  },
  {
   "cell_type": "code",
   "execution_count": 53,
   "metadata": {},
   "outputs": [
    {
     "name": "stdout",
     "output_type": "stream",
     "text": [
      "['burger', 'cabbage', 'chocolate', 'pasta', 'pasty', 'pizza', 'sausages']\n",
      "{'The Pub': ['burger', 'cabbage', 'chocolate', 'pasta', 'pasty', 'pizza', 'sausages'], 'The Chippy': ['Fish', 'Chips', 'Battered Mars Bars'], 'Fine Dining': {'Week days': 'standard menu', 'Fridays and Weekends': 'Tasting Menu'}, 'mcdonalds': 'Burger'}\n",
      "True\n"
     ]
    }
   ],
   "source": [
    "food_dict = {\"The Pub\":food_list,\n",
    "             \"The Chippy\":[\"Fish\", \"Chips\", \"Battered Mars Bars\"],\n",
    "             \"Fine Dining\":{\"Week days\":\"standard menu\",\n",
    "                            \"Fridays and Weekends\":\"Tasting Menu\"}}\n",
    "\n",
    "\n",
    "# Using the key, print the values of one of the restaurants in your dicitonary.\n",
    "\n",
    "print(food_dict['The Pub'])\n",
    "\n",
    "# Add a new key:value pair to your dictionary, as above.\n",
    "\n",
    "food_dict['mcdonalds'] = \"Burger\"\n",
    "print(food_dict)\n",
    "\n",
    "# Check whether 'mcdonalds' is a key in your dictionary, printing the answer.\n",
    "\n",
    "print('mcdonalds' in food_dict)\n",
    "\n",
    "\n"
   ]
  },
  {
   "cell_type": "code",
   "execution_count": null,
   "metadata": {},
   "outputs": [],
   "source": [
    "food_dict = {\"The Pub\":food_list,\n",
    "             \"The Chippy\":[\"Fish\", \"Chips\", \"Battered Mars Bars\"],\n",
    "             \"Fine Dining\":{\"Week days\":\"standard menu\",\n",
    "                            \"Fridays and Weekends\":\"Tasting Menu\"}}\n",
    "# Using the key, print the values of one of the restaurants in your dicitonary.\n",
    "# Add a new key:value pair to your dictionary, as above.\n",
    "# Check whether 'mcdonalds' is a key in your dictionary, printing the answer.\n",
    "print(food_dict['The Pub'])\n",
    "\n",
    "food_dict['mcdonalds'] = \"Burger\"\n",
    "print(food_dict)\n",
    "\n",
    "print('mcdonalds' in food_dict)"
   ]
  }
 ],
 "metadata": {
  "kernelspec": {
   "display_name": "Python 3",
   "language": "python",
   "name": "python3"
  },
  "language_info": {
   "codemirror_mode": {
    "name": "ipython",
    "version": 3
   },
   "file_extension": ".py",
   "mimetype": "text/x-python",
   "name": "python",
   "nbconvert_exporter": "python",
   "pygments_lexer": "ipython3",
   "version": "3.10.13"
  }
 },
 "nbformat": 4,
 "nbformat_minor": 2
}
